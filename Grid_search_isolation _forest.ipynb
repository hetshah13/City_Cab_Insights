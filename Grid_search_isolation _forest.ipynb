{
 "cells": [
  {
   "cell_type": "code",
   "execution_count": 1,
   "metadata": {},
   "outputs": [],
   "source": [
    "# outlier\n",
    "# Importing necessary libraries\n",
    "import numpy as np\n",
    "import pandas as pd\n",
    "from sklearn.ensemble import IsolationForest\n",
    "import matplotlib.pyplot as plt\n",
    "\n",
    "# Load your dataset (replace 'your_dataset.csv' with your actual dataset file)\n",
    "data = pd.read_csv('your_dataset.csv')\n",
    "\n",
    "# Selecting the features for Isolation Forest\n",
    "features = ['trip_distance', 'total_amount']\n",
    "X = data[features]\n",
    "\n",
    "# Training the Isolation Forest model\n",
    "isolation_forest = IsolationForest(contamination=0.01)  # Adjust the contamination parameter as needed\n",
    "isolation_forest.fit(X)\n",
    "\n",
    "# Predicting anomalies (outliers)\n",
    "anomaly_scores = isolation_forest.decision_function(X)\n",
    "outliers = isolation_forest.predict(X)\n",
    "\n",
    "# Adding anomaly scores and outlier predictions to the original dataset\n",
    "data['anomaly_score'] = anomaly_scores\n",
    "data['is_outlier'] = outliers\n",
    "\n",
    "# Visualizing the anomaly scores\n",
    "plt.figure(figsize=(10, 6))\n",
    "plt.hist(anomaly_scores, bins=50, alpha=0.5, color='blue', edgecolor='black')\n",
    "plt.xlabel('Anomaly Score')\n",
    "plt.ylabel('Frequency')\n",
    "plt.title('Distribution of Anomaly Scores')\n",
    "plt.show()\n",
    "\n",
    "# Visualizing outliers\n",
    "plt.figure(figsize=(10, 6))\n",
    "plt.scatter(data['trip_distance'], data['total_amount'], c=data['is_outlier'], cmap='viridis')\n",
    "plt.xlabel('Trip Distance')\n",
    "plt.ylabel('Total Amount')\n",
    "plt.title('Outlier Detection with Isolation Forest')\n",
    "plt.colorbar(label='Outlier (1) / Inlier (-1)')\n",
    "plt.show()\n",
    "\n",
    "# Displaying the detected outliers\n",
    "detected_outliers = data[data['is_outlier'] == -1]\n",
    "print(\"Detected outliers:\")\n",
    "print(detected_outliers)"
   ]
  },
  {
   "cell_type": "code",
   "execution_count": null,
   "metadata": {},
   "outputs": [],
   "source": [
    "import numpy as np\n",
    "import pandas as pd\n",
    "import dask.dataframe as dd\n",
    "from sklearn.ensemble import IsolationForest\n",
    "from sklearn.model_selection import GridSearchCV\n",
    "from sklearn.metrics import make_scorer"
   ]
  },
  {
   "cell_type": "code",
   "execution_count": null,
   "metadata": {},
   "outputs": [],
   "source": [
    "data = dd.read_parquet(r'City_Cab_Insights\\Data\\yellow_tripdata_2023-02.parquet')\n",
    "# Convert Dask DataFrame to Pandas DataFrame\n",
    "data = data.compute()"
   ]
  },
  {
   "cell_type": "code",
   "execution_count": null,
   "metadata": {},
   "outputs": [],
   "source": [
    "# Selecting the features for Isolation Forest\n",
    "features = ['trip_distance', 'fare_amount']\n",
    "X = data[features]\n",
    "\n",
    "# Define a custom scoring function\n",
    "def custom_score(estimator, X):\n",
    "    # Get the anomaly scores\n",
    "    anomaly_scores = estimator.decision_function(X)\n",
    "    # Calculate the negative of the average anomaly score\n",
    "    return -np.mean(anomaly_scores)\n",
    "\n",
    "# Create the scorer using the custom scoring function\n",
    "scorer = make_scorer(custom_score, greater_is_better=False)\n",
    "scorer"
   ]
  },
  {
   "cell_type": "code",
   "execution_count": null,
   "metadata": {},
   "outputs": [],
   "source": [
    "# Define the range of contamination values to search over\n",
    "contamination_values = [0.01, 0.05, 0.1, 0.15, 0.2]\n",
    "\n",
    "# Create a dictionary of parameters to search\n",
    "param_grid = {'contamination': contamination_values}\n",
    "\n",
    "# Initialize Isolation Forest\n",
    "isolation_forest = IsolationForest()\n",
    "\n",
    "# Initialize GridSearchCV with the custom scorer\n",
    "grid_search = GridSearchCV(estimator=isolation_forest, param_grid=param_grid, cv=5, scoring=scorer)"
   ]
  },
  {
   "cell_type": "code",
   "execution_count": null,
   "metadata": {},
   "outputs": [],
   "source": [
    "# Perform grid search\n",
    "grid_search.fit(X)\n",
    "\n",
    "# Get the best contamination parameter\n",
    "best_contamination = grid_search.best_params_['contamination']\n",
    "print(\"Best contamination parameter:\", best_contamination) # Best contamination is 0.01"
   ]
  },
  {
   "cell_type": "code",
   "execution_count": null,
   "metadata": {},
   "outputs": [],
   "source": [
    "# Initialize Isolation Forest with the best contamination parameter\n",
    "best_isolation_forest = IsolationForest(contamination=best_contamination)\n",
    "\n",
    "# Train the Isolation Forest model with the best contamination parameter\n",
    "best_isolation_forest.fit(X)\n",
    "\n",
    "# Predicting anomalies (outliers) with the best model\n",
    "best_anomaly_scores = best_isolation_forest.decision_function(X)\n",
    "best_outliers = best_isolation_forest.predict(X)\n",
    "\n",
    "# Adding anomaly scores and outlier predictions to the original dataset\n",
    "data['best_anomaly_score'] = best_anomaly_scores\n",
    "data['best_is_outlier'] = best_outliers\n",
    "\n",
    "# Displaying the detected outliers\n",
    "best_detected_outliers = data[data['best_is_outlier'] == -1]\n",
    "print(\"Detected outliers with the best model:\")\n",
    "print(best_detected_outliers)\n"
   ]
  }
 ],
 "metadata": {
  "kernelspec": {
   "display_name": "Python 3",
   "language": "python",
   "name": "python3"
  },
  "language_info": {
   "codemirror_mode": {
    "name": "ipython",
    "version": 3
   },
   "file_extension": ".py",
   "mimetype": "text/x-python",
   "name": "python",
   "nbconvert_exporter": "python",
   "pygments_lexer": "ipython3",
   "version": "3.11.4"
  }
 },
 "nbformat": 4,
 "nbformat_minor": 2
}
